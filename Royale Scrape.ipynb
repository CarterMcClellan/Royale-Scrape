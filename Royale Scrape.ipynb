{
 "cells": [
  {
   "cell_type": "code",
   "execution_count": 1,
   "metadata": {},
   "outputs": [],
   "source": [
    "from bs4 import BeautifulSoup\n",
    "import requests"
   ]
  },
  {
   "cell_type": "code",
   "execution_count": 2,
   "metadata": {},
   "outputs": [],
   "source": [
    "CARTER_KEY = \"PVQ90YCV\""
   ]
  },
  {
   "cell_type": "code",
   "execution_count": 3,
   "metadata": {},
   "outputs": [],
   "source": [
    "# Return parsed profile page using BS4\n",
    "def parseURL(tag, sort_by):\n",
    "    if sort_by == \"level\":\n",
    "         link = \"https://statsroyale.com/profile/{}/cards?sort=level\".format(tag)\n",
    "    elif sort_by == \"elixir\":\n",
    "        link = \"https://statsroyale.com/profile/{}/cards?sort=exlixir\".format(tag)\n",
    "    elif sort_by == \"rarity\":\n",
    "        link = \"https://statsroyale.com/profile/{}/cards?sort=rarity\".format(tag)\n",
    "    elif sort_by == \"arena\":\n",
    "        link = \"https://statsroyale.com/profile/{}/cards?sort=arena\".format(tag)\n",
    "    \n",
    "    response = requests.get(link).text\n",
    "    soup = BeautifulSoup(response, 'html.parser')\n",
    "    return soup"
   ]
  },
  {
   "cell_type": "code",
   "execution_count": 40,
   "metadata": {},
   "outputs": [],
   "source": [
    "carter_soup = parseURL(CARTER_KEY, \"rarity\")\n",
    "carter_cards_html = carter_soup.findAll(\"div\", {\"class\": \"profileCards__card upgrade\"}) + carter_soup.findAll(\"div\", {\"class\": \"profileCards__card \"})"
   ]
  },
  {
   "cell_type": "code",
   "execution_count": 41,
   "metadata": {},
   "outputs": [],
   "source": [
    "SCOTT_KEY = \"L8RCCJGV\"\n",
    "scott_soup = parseURL(SCOTT_KEY, \"rarity\")\n",
    "scott_cards_html = scott_soup.findAll(\"div\", {\"class\": \"profileCards__card upgrade\"}) + scott_soup.findAll(\"div\", {\"class\": \"profileCards__card \"})"
   ]
  },
  {
   "cell_type": "code",
   "execution_count": null,
   "metadata": {},
   "outputs": [],
   "source": []
  },
  {
   "cell_type": "code",
   "execution_count": 30,
   "metadata": {},
   "outputs": [],
   "source": [
    "class Card:\n",
    "    def __init__(self, card_html):\n",
    "        self.name, self.level, self.curr_count, self.rarity = self.parse(card_html)\n",
    "    \n",
    "    def parse(self, card_html):\n",
    "        rarity_map = {\n",
    "            \"1\" : \"Common\", \n",
    "            \"2\" : \"Rare\",\n",
    "            \"3\" : \"Epic\",\n",
    "            \"4\" : \"Legendary\"\n",
    "        }\n",
    "        name = card_html.find(\"div\", {\"class\" : \"ui__tooltip ui__tooltipTop ui__tooltipMiddle cards__tooltip\"}).text.replace('\\n','')\n",
    "        level = card_html.find(\"a\").text.replace('\\n','')\n",
    "        curr_count = card_html.find(\"div\", {\"class\" : \"profileCards__meter__numbers\"}).text.replace('\\n','')\n",
    "        rarity = card_html[\"data-rarity\"][0]\n",
    "        return name, level, curr_count, rarity_map[rarity]\n",
    "    \n",
    "    \n",
    "    def __repr__(self):\n",
    "        return \"{} Level: {} Count: {} Rarity: {}\".format(self.name, self.level, self.curr_count, self.rarity)\n",
    "        \"\"\"\n",
    "        return dict [\n",
    "            \"Name\": self.name,\n",
    "            \"Level\": self.level,\n",
    "            \"Count\": self.curr_count,\n",
    "            \"Rarity\": self.rarity             \n",
    "        ]\n",
    "        \"\"\""
   ]
  },
  {
   "cell_type": "code",
   "execution_count": 36,
   "metadata": {},
   "outputs": [
    {
     "data": {
      "text/plain": [
       "[Ice Spirit Level: lvl.10 Count: 3884/1000 Rarity: Common,\n",
       " Skeletons Level: lvl.10 Count: 3553/1000 Rarity: Common,\n",
       " Spear Goblins Level: lvl.11 Count:  2989/2000 Rarity: Common,\n",
       " Goblins Level: lvl.11 Count: 2567/2000 Rarity: Common,\n",
       " Giant Snowball Level: lvl.8 Count: 3309/400 Rarity: Common,\n",
       " Zap Level: lvl.11 Count: 3206/2000 Rarity: Common,\n",
       " Bomber Level: lvl.10 Count: 3904/1000 Rarity: Common,\n",
       " Royal Delivery Level: lvl.1 Count: 1398/2 Rarity: Common,\n",
       " Skeleton Barrel Level: lvl.6 Count: 4269/100 Rarity: Common,\n",
       " Firecracker Level: lvl.7 Count: 2903/200 Rarity: Common,\n",
       " Cannon Level: lvl.6 Count: 5028/100 Rarity: Common,\n",
       " Tesla Level: lvl.6 Count: 3721/100 Rarity: Common,\n",
       " Rascals Level: lvl.7 Count: 3472/200 Rarity: Common,\n",
       " Minion Horde Level: lvl.11 Count: 3504/2000 Rarity: Common,\n",
       " Royal Recruits Level: lvl.6 Count: 3459/100 Rarity: Common,\n",
       " Ice Golem Level: lvl.7 Count: 690/50 Rarity: Rare,\n",
       " Dart Goblin Level: lvl.6 Count: 767/20 Rarity: Rare,\n",
       " Tombstone Level: lvl.8 Count: 702/100 Rarity: Rare,\n",
       " Elixir Golem Level: lvl.6 Count: 388/20 Rarity: Rare,\n",
       " Mega Minion Level: lvl.10 Count: 625/400 Rarity: Rare,\n",
       " Earthquake Level: lvl.3 Count: 451/2 Rarity: Rare,\n",
       " Goblin Cage Level: lvl.3 Count: 520/2 Rarity: Rare,\n",
       " Furnace Level: lvl.9 Count: 768/200 Rarity: Rare,\n",
       " Bomb Tower Level: lvl.10 Count: 533/400 Rarity: Rare,\n",
       " Flying Machine Level: lvl.6 Count: 587/20 Rarity: Rare,\n",
       " Zappies Level: lvl.6 Count: 678/20 Rarity: Rare,\n",
       " Battle Ram Level: lvl.9 Count: 728/200 Rarity: Rare,\n",
       " Musketeer Level: lvl.10 Count: 479/400 Rarity: Rare,\n",
       " Royal Hogs Level: lvl.8 Count: 775/100 Rarity: Rare,\n",
       " Inferno Tower Level: lvl.8 Count: 871/100 Rarity: Rare,\n",
       " Goblin Hut Level: lvl.6 Count: 1033/20 Rarity: Rare,\n",
       " Giant Level: lvl.9 Count: 790/200 Rarity: Rare,\n",
       " Elixir Collector Level: lvl.9 Count: 785/200 Rarity: Rare,\n",
       " Barbarian Hut Level: lvl.7 Count: 724/50 Rarity: Rare,\n",
       " Three Musketeers Level: lvl.10 Count: 636/400 Rarity: Rare,\n",
       " Mirror Level: lvl.10 Count: 65/50 Rarity: Epic,\n",
       " Barbarian Barrel Level: lvl.9 Count: 54/20 Rarity: Epic,\n",
       " Skeleton Army Level: lvl.9 Count: 95/20 Rarity: Epic,\n",
       " Guards Level: lvl.10 Count: 58/50 Rarity: Epic,\n",
       "  Clone Level: lvl.7 Count: 79/4 Rarity: Epic,\n",
       " Goblin Barrel Level: lvl.9 Count: 88/20 Rarity: Epic,\n",
       " Tornado Level: lvl.9 Count: 88/20 Rarity: Epic,\n",
       " Baby Dragon Level: lvl.9 Count: 68/20 Rarity: Epic,\n",
       " Freeze Level: lvl.7 Count: 94/4 Rarity: Epic,\n",
       " Hunter Level: lvl.8 Count: 102/10 Rarity: Epic,\n",
       " Poison Level: lvl.10 Count: 109/50 Rarity: Epic,\n",
       " Electro Dragon Level: lvl.8 Count: 92/10 Rarity: Epic,\n",
       " Balloon Level: lvl.10 Count: 50/50 Rarity: Epic,\n",
       " Cannon Cart Level: lvl.8 Count: 52/10 Rarity: Epic,\n",
       " Prince Level: lvl.10 Count: 120/50 Rarity: Epic,\n",
       "  Executioner Level: lvl.9 Count: 80/20 Rarity: Epic,\n",
       " Giant Skeleton Level: lvl.9 Count: 92/20 Rarity: Epic,\n",
       " X-Bow Level: lvl.10 Count: 53/50 Rarity: Epic,\n",
       " Goblin Giant Level: lvl.7 Count: 65/4 Rarity: Epic,\n",
       " Lightning Level: lvl.7 Count: 153/4 Rarity: Epic,\n",
       " P.E.K.K.A Level: lvl.10 Count: 110/50 Rarity: Epic,\n",
       " Fisherman Level: lvl.9 Count: 3/2 Rarity: Legendary,\n",
       " Bandit  Level: lvl.10 Count: 5/4 Rarity: Legendary,\n",
       " Night Witch Level: lvl.10 Count: 4/4 Rarity: Legendary,\n",
       " Lumberjack Level: lvl.10 Count: 5/4 Rarity: Legendary,\n",
       " Graveyard Level: lvl.10 Count: 9/4 Rarity: Legendary,\n",
       " Ram Rider Level: lvl.9 Count: 2/2 Rarity: Legendary,\n",
       " Sparky Level: lvl.10 Count: 4/4 Rarity: Legendary,\n",
       " Lava Hound Level: lvl.10 Count: 9/4 Rarity: Legendary,\n",
       " Mega Knight Level: lvl.10 Count: 5/4 Rarity: Legendary]"
      ]
     },
     "execution_count": 36,
     "metadata": {},
     "output_type": "execute_result"
    }
   ],
   "source": [
    "[Card(tmp) for tmp in cards]\n"
   ]
  },
  {
   "cell_type": "code",
   "execution_count": 49,
   "metadata": {},
   "outputs": [],
   "source": [
    "CHRIS_KEY = \"2JV9RJYJG\"\n",
    "chris_soup = parseURL(CHRIS_KEY, \"rarity\")\n",
    "chris_cards_html = chris_soup.findAll(\"div\", {\"class\": \"profileCards__card upgrade\"}) + chris_soup.findAll(\"div\", {\"class\": \"profileCards__card \"})"
   ]
  },
  {
   "cell_type": "code",
   "execution_count": 50,
   "metadata": {},
   "outputs": [
    {
     "data": {
      "text/plain": [
       "[Ice Spirit Level: lvl.9 Count: 6518/800 Rarity: Common,\n",
       " Skeletons Level: lvl.8 Count: 6592/400 Rarity: Common,\n",
       " Spear Goblins Level: lvl.11 Count: 4877/2000 Rarity: Common,\n",
       " Goblins Level: lvl.7 Count: 7229/200 Rarity: Common,\n",
       " Fire Spirits Level: lvl.12 Count:  5000/5000 Rarity: Common,\n",
       " Giant Snowball Level: lvl.9 Count: 5843/800 Rarity: Common,\n",
       " Zap Level: lvl.11 Count: 5631/2000 Rarity: Common,\n",
       " Bats Level: lvl.10 Count: 5969/1000 Rarity: Common,\n",
       " Arrows Level: lvl.11 Count: 5321/2000 Rarity: Common,\n",
       " Archers Level: lvl.10 Count: 7288/1000 Rarity: Common,\n",
       " Bomber Level: lvl.9 Count: 6883/800 Rarity: Common,\n",
       " Goblin Gang Level: lvl.10 Count: 5654/1000 Rarity: Common,\n",
       " Royal Delivery Level: lvl.8 Count: 2271/400 Rarity: Common,\n",
       " Skeleton Barrel Level: lvl.7 Count: 6003/200 Rarity: Common,\n",
       " Firecracker Level: lvl.9 Count: 1950/800 Rarity: Common,\n",
       " Cannon Level: lvl.10 Count: 6549/1000 Rarity: Common,\n",
       " Mortar Level: lvl.11 Count: 2387/2000 Rarity: Common,\n",
       " Rascals Level: lvl.8 Count: 6174/400 Rarity: Common,\n",
       " Minion Horde Level: lvl.10 Count: 6678/1000 Rarity: Common,\n",
       " Barbarians Level: lvl.10 Count: 6074/1000 Rarity: Common,\n",
       " Royal Recruits Level: lvl.10 Count: 4036/1000 Rarity: Common,\n",
       " Heal Spirit Level: lvl.7 Count: 1075/50 Rarity: Rare,\n",
       " Ice Golem Level: lvl.9 Count: 1308/200 Rarity: Rare,\n",
       " Tombstone Level: lvl.9 Count: 1186/200 Rarity: Rare,\n",
       " Mega Minion Level: lvl.8 Count: 1267/100 Rarity: Rare,\n",
       " Earthquake Level: lvl.10 Count: 423/400 Rarity: Rare,\n",
       " Mini P.E.K.K.A Level: lvl.9 Count: 1005/200 Rarity: Rare,\n",
       " Goblin Cage Level: lvl.8 Count: 412/100 Rarity: Rare,\n",
       " Furnace Level: lvl.10 Count: 1107/400 Rarity: Rare,\n",
       " Bomb Tower Level: lvl.10 Count: 785/400 Rarity: Rare,\n",
       " Battle Healer Level: lvl.8 Count: 465/100 Rarity: Rare,\n",
       " Flying Machine Level: lvl.8 Count: 1320/100 Rarity: Rare,\n",
       " Battle Ram Level: lvl.9 Count: 1291/200 Rarity: Rare,\n",
       " Hog Rider Level: lvl.11 Count: 834/800 Rarity: Rare,\n",
       " Musketeer Level: lvl.9 Count: 1354/200 Rarity: Rare,\n",
       " Royal Hogs Level: lvl.10 Count: 830/400 Rarity: Rare,\n",
       " Inferno Tower Level: lvl.11 Count: 903/800 Rarity: Rare,\n",
       " Goblin Hut Level: lvl.10 Count: 697/400 Rarity: Rare,\n",
       " Giant Level: lvl.10 Count: 984/400 Rarity: Rare,\n",
       "  Elixir Collector Level: lvl.10 Count: 1042/400 Rarity: Rare,\n",
       " Barbarian Hut Level: lvl.10 Count: 714/400 Rarity: Rare,\n",
       " Three Musketeers Level: lvl.10 Count: 659/400 Rarity: Rare,\n",
       " Mirror Level: lvl.9 Count: 95/20 Rarity: Epic,\n",
       " Rage Level: lvl.10 Count: 98/50 Rarity: Epic,\n",
       " Barbarian Barrel Level: lvl.10 Count: 107/50 Rarity: Epic,\n",
       " Wall Breakers  Level: lvl.10 Count: 54/50 Rarity: Epic,\n",
       " Guards Level: lvl.8 Count: 122/10 Rarity: Epic,\n",
       " Clone Level: lvl.10 Count: 90/50 Rarity: Epic,\n",
       " Hunter Level: lvl.8 Count: 97/10 Rarity: Epic,\n",
       " Electro Dragon Level: lvl.8 Count: 80/10 Rarity: Epic,\n",
       " Witch Level: lvl.10 Count: 73/50 Rarity: Epic,\n",
       " Cannon Cart  Level: lvl.9 Count: 94/20 Rarity: Epic,\n",
       " Prince Level: lvl.10 Count: 110/50 Rarity: Epic,\n",
       " Bowler Level: lvl.10 Count: 117/50 Rarity: Epic,\n",
       " Executioner Level: lvl.10 Count: 76/50 Rarity: Epic,\n",
       " X-Bow Level: lvl.10 Count: 120/50 Rarity: Epic,\n",
       " Goblin Giant Level: lvl.9 Count: 75/20 Rarity: Epic,\n",
       " Fisherman Level: lvl.9 Count: 2/2 Rarity: Legendary,\n",
       " Royal Ghost Level: lvl.10 Count: 4/4 Rarity: Legendary,\n",
       " Inferno Dragon Level: lvl.10 Count: 7/4 Rarity: Legendary,\n",
       " Lava Hound Level: lvl.10 Count: 5/4 Rarity: Legendary]"
      ]
     },
     "execution_count": 50,
     "metadata": {},
     "output_type": "execute_result"
    }
   ],
   "source": [
    "[Card(tmp) for tmp in chr_cards_html]"
   ]
  },
  {
   "cell_type": "code",
   "execution_count": 43,
   "metadata": {},
   "outputs": [],
   "source": [
    "del(cards)"
   ]
  },
  {
   "cell_type": "code",
   "execution_count": null,
   "metadata": {},
   "outputs": [],
   "source": []
  }
 ],
 "metadata": {
  "kernelspec": {
   "display_name": "Python 3",
   "language": "python",
   "name": "python3"
  },
  "language_info": {
   "codemirror_mode": {
    "name": "ipython",
    "version": 3
   },
   "file_extension": ".py",
   "mimetype": "text/x-python",
   "name": "python",
   "nbconvert_exporter": "python",
   "pygments_lexer": "ipython3",
   "version": "3.7.4"
  }
 },
 "nbformat": 4,
 "nbformat_minor": 2
}
