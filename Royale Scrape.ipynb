{
 "cells": [
  {
   "cell_type": "code",
   "execution_count": 1,
   "metadata": {},
   "outputs": [],
   "source": [
    "from bs4 import BeautifulSoup\n",
    "import requests"
   ]
  },
  {
   "cell_type": "code",
   "execution_count": 6,
   "metadata": {},
   "outputs": [],
   "source": [
    "CARTER_KEY = \"PVQ90YCV\""
   ]
  },
  {
   "cell_type": "code",
   "execution_count": 4,
   "metadata": {},
   "outputs": [],
   "source": [
    "# Return parsed profile page using BS4\n",
    "def parseURL(tag, sort_by):\n",
    "    if sort_by == \"level\":\n",
    "         link = \"https://statsroyale.com/profile/{}/cards?sort=level\".format(tag)\n",
    "    elif sort_by == \"elixir\":\n",
    "        link = \"https://statsroyale.com/profile/{}/cards?sort=exlixir\".format(tag)\n",
    "    elif sort_by == \"rarity\":\n",
    "        link = \"https://statsroyale.com/profile/{}/cards?sort=rarity\".format(tag)\n",
    "    elif sort_by == \"arena\":\n",
    "        link = \"https://statsroyale.com/profile/{}/cards?sort=arena\".format(tag)\n",
    "    \n",
    "    response = requests.get(link).text\n",
    "    soup = BeautifulSoup(response, 'html.parser')\n",
    "    return soup"
   ]
  },
  {
   "cell_type": "code",
   "execution_count": 7,
   "metadata": {},
   "outputs": [],
   "source": [
    "carter_soup = parseURL(CARTER_KEY, \"rarity\")"
   ]
  },
  {
   "cell_type": "code",
   "execution_count": 42,
   "metadata": {},
   "outputs": [],
   "source": [
    "cards = carter_soup.findAll(\"div\", {\"class\": \"profileCards__card upgrade \"}) + carter_soup.findAll(\"div\", {\"class\": \"profileCards__card \"})"
   ]
  },
  {
   "cell_type": "code",
   "execution_count": 62,
   "metadata": {},
   "outputs": [
    {
     "data": {
      "text/plain": [
       "'1'"
      ]
     },
     "execution_count": 62,
     "metadata": {},
     "output_type": "execute_result"
    }
   ],
   "source": [
    "cards[0]['data-rarity'][0]"
   ]
  },
  {
   "cell_type": "code",
   "execution_count": 63,
   "metadata": {},
   "outputs": [],
   "source": [
    "class Card:\n",
    "    def __init__(self, card_html):\n",
    "        self.name, self.level, self.curr_count, self.rarity = self.parse(card_html)\n",
    "    \n",
    "    def parse(self, card_html):\n",
    "        rarity_map = {\n",
    "            \"1\" : \"Common\", \n",
    "            \"2\" : \"Rare\",\n",
    "            \"3\" : \"Epic\",\n",
    "            \"4\" : \"Legendary\"\n",
    "        }\n",
    "        name = card_html.find(\"div\", {\"class\" : \"ui__tooltip ui__tooltipTop ui__tooltipMiddle cards__tooltip\"}).text.replace('\\n','')\n",
    "        level = card_html.find(\"a\").text.replace('\\n','')\n",
    "        curr_count = card_html.find(\"div\", {\"class\" : \"profileCards__meter__numbers\"}).text.replace('\\n','')\n",
    "        rarity = card_html[\"data-rarity\"][0]\n",
    "        return name, level, curr_count, rarity_map[rarity]\n",
    "    \n",
    "    \n",
    "    def __repr__(self):\n",
    "        return \"{} Level: {} Count: {} Rarity: {}\".format(self.name, self.level, self.curr_count, self.rarity)"
   ]
  },
  {
   "cell_type": "code",
   "execution_count": 64,
   "metadata": {},
   "outputs": [
    {
     "data": {
      "text/plain": [
       "[Ice Spirit Level: lvl.11 Count: 3109/2000 Rarity: Common,\n",
       "  Skeletons Level: lvl.10 Count: 4042/1000 Rarity: Common,\n",
       " Spear Goblins Level: lvl.10 Count: 3751/1000 Rarity: Common,\n",
       " Fire Spirits Level: lvl.10 Count: 2543/1000 Rarity: Common,\n",
       " Giant Snowball Level: lvl.10 Count: 2143/1000 Rarity: Common,\n",
       " Bats Level: lvl.11 Count: 2939/2000 Rarity: Common,\n",
       " Arrows Level: lvl.10 Count: 4527/1000 Rarity: Common,\n",
       " Archers Level: lvl.10 Count: 3726/1000 Rarity: Common,\n",
       " Bomber Level: lvl.8 Count: 4801/400 Rarity: Common,\n",
       " Goblin Gang Level: lvl.11 Count: 3302/2000 Rarity: Common,\n",
       " Royal Delivery Level: lvl.8 Count: 639/400 Rarity: Common,\n",
       " Skeleton Barrel Level: lvl.9 Count: 4070/800 Rarity: Common,\n",
       " Cannon Level: lvl.9 Count: 5616/800 Rarity: Common,\n",
       " Tesla Level: lvl.8 Count: 4963/400 Rarity: Common,\n",
       " Mortar Level: lvl.11 Count: 2994/2000 Rarity: Common,\n",
       " Rascals Level: lvl.9 Count: 2574/800 Rarity: Common,\n",
       " Minion Horde Level: lvl.11 Count: 2828/2000 Rarity: Common,\n",
       " Elite Barbarians Level: lvl.10 Count: 4051/1000 Rarity: Common,\n",
       " Royal Recruits Level: lvl.9 Count: 2636/800 Rarity: Common,\n",
       " Ice Golem Level: lvl.10 Count: 572/400 Rarity: Rare,\n",
       " Dart Goblin Level: lvl.9 Count: 542/200 Rarity: Rare,\n",
       " Tombstone Level: lvl.10 Count: 419/400 Rarity: Rare,\n",
       " Mega Minion Level: lvl.10 Count: 432/400 Rarity: Rare,\n",
       " Earthquake Level: lvl.8 Count: 312/100 Rarity: Rare,\n",
       " Mini P.E.K.K.A Level: lvl.9 Count: 722/200 Rarity: Rare,\n",
       " Goblin Cage Level: lvl.8 Count: 180/100 Rarity: Rare,\n",
       " Furnace Level: lvl.10 Count: 406/400 Rarity: Rare,\n",
       " Bomb Tower Level: lvl.9 Count: 800/200 Rarity: Rare,\n",
       " Flying Machine Level: lvl.8 Count: 645/100 Rarity: Rare,\n",
       " Zappies Level: lvl.8 Count: 639/100 Rarity: Rare,\n",
       " Battle Ram Level: lvl.9 Count: 771/200 Rarity: Rare,\n",
       " Musketeer Level: lvl.9 Count: 820/200 Rarity: Rare,\n",
       " Valkyrie Level: lvl.8 Count: 617/100 Rarity: Rare,\n",
       " Wizard Level: lvl.10 Count: 549/400 Rarity: Rare,\n",
       " Inferno Tower Level: lvl.10 Count: 446/400 Rarity: Rare,\n",
       " Goblin Hut Level: lvl.8 Count: 679/100 Rarity: Rare,\n",
       " Giant Level: lvl.10 Count: 552/400 Rarity: Rare,\n",
       " Elixir Collector Level: lvl.10 Count: 582/400 Rarity: Rare,\n",
       " Barbarian Hut Level: lvl.9 Count: 659/200 Rarity: Rare,\n",
       " Three Musketeers Level: lvl.10 Count: 535/400 Rarity: Rare,\n",
       " Mirror Level: lvl.10 Count: 50/50 Rarity: Epic,\n",
       " Rage Level: lvl.9 Count: 30/20 Rarity: Epic,\n",
       " Skeleton Army Level: lvl.9 Count: 69/20 Rarity: Epic,\n",
       " Guards Level: lvl.8 Count: 53/10 Rarity: Epic,\n",
       " Clone Level: lvl.9 Count: 46/20 Rarity: Epic,\n",
       " Goblin Barrel Level: lvl.10 Count: 59/50 Rarity: Epic,\n",
       " Freeze Level: lvl.9 Count: 79/20 Rarity: Epic,\n",
       " Hunter Level: lvl.9 Count: 45/20 Rarity: Epic,\n",
       " Poison Level: lvl.10 Count: 86/50 Rarity: Epic,\n",
       " Witch Level: lvl.10 Count: 64/50 Rarity: Epic,\n",
       " Cannon Cart  Level: lvl.8 Count: 53/10 Rarity: Epic,\n",
       " X-Bow Level: lvl.9 Count: 59/20 Rarity: Epic,\n",
       " P.E.K.K.A Level: lvl.9 Count: 44/20 Rarity: Epic,\n",
       " Graveyard Level: lvl.10 Count: 4/4 Rarity: Legendary,\n",
       " Goblins Level: lvl.12 Count: 726/5000 Rarity: Common,\n",
       " Zap Level: lvl.12 Count: 1731/5000 Rarity: Common,\n",
       " Knight Level: lvl.12 Count: 307/5000 Rarity: Common,\n",
       " Minions Level: lvl.12 Count: 357/5000 Rarity: Common,\n",
       " Firecracker Level: lvl.9 Count: 651/800 Rarity: Common,\n",
       " Barbarians Level: lvl.12 Count: 1711/5000 Rarity: Common,\n",
       " Royal Giant Level: lvl.12 Count: 1364/5000 Rarity: Common,\n",
       " Heal Spirit Level: lvl.11 Count: 62/800 Rarity: Rare,\n",
       " Elixir Golem Level: lvl.9 Count: 103/200 Rarity: Rare,\n",
       " Battle Healer Level: lvl.9 Count: 198/200 Rarity: Rare,\n",
       " Hog Rider Level: lvl.11 Count: 258/800 Rarity: Rare,\n",
       " Fireball Level: lvl.11 Count: 150/800 Rarity: Rare,\n",
       " Royal Hogs Level: lvl.10 Count: 155/400 Rarity: Rare,\n",
       " Rocket Level: lvl.11 Count: 45/800 Rarity: Rare,\n",
       " Barbarian Barrel Level: lvl.10 Count: 29/50 Rarity: Epic,\n",
       " Wall Breakers Level: lvl.8 Count: 5/10 Rarity: Epic,\n",
       " Tornado Level: lvl.11 Count: 11/100 Rarity: Epic,\n",
       " Baby Dragon Level: lvl.10 Count: 39/50 Rarity: Epic,\n",
       " Dark Prince Level: lvl.10 Count: 47/50 Rarity: Epic,\n",
       " Electro Dragon Level: lvl.10 Count: 40/50 Rarity: Epic,\n",
       " Balloon Level: lvl.11 Count: 14/100 Rarity: Epic,\n",
       " Prince Level: lvl.10 Count: 25/50 Rarity: Epic,\n",
       " Bowler Level: lvl.10 Count: 34/50 Rarity: Epic,\n",
       " Executioner Level: lvl.11 Count: 21/100 Rarity: Epic,\n",
       " Giant Skeleton Level: lvl.10 Count: 15/50 Rarity: Epic,\n",
       " Goblin Giant Level: lvl.8 Count: 3/10 Rarity: Epic,\n",
       " Lightning Level: lvl.10 Count: 32/50 Rarity: Epic,\n",
       " Golem Level: lvl.10 Count: 34/50 Rarity: Epic,\n",
       " The Log Level: lvl.11 Count: 3/10 Rarity: Legendary,\n",
       " Ice Wizard Level: lvl.10 Count: 2/4 Rarity: Legendary,\n",
       " Princess Level: lvl.10 Count: 2/4 Rarity: Legendary,\n",
       " Fisherman Level: lvl.10 Count: 0/4 Rarity: Legendary,\n",
       " Miner Level: lvl.11 Count: 5/10 Rarity: Legendary,\n",
       " Royal Ghost Level: lvl.10 Count: 1/4 Rarity: Legendary,\n",
       " Bandit Level: lvl.10 Count: 3/4 Rarity: Legendary,\n",
       " Magic Archer Level: lvl.10 Count: 1/4 Rarity: Legendary,\n",
       " Electro Wizard Level: lvl.9 Count: 1/2 Rarity: Legendary,\n",
       " Night Witch Level: lvl.11 Count: 1/10 Rarity: Legendary,\n",
       " Inferno Dragon Level: lvl.11 Count: 0/10 Rarity: Legendary,\n",
       " Lumberjack Level: lvl.10 Count: 2/4 Rarity: Legendary,\n",
       " Ram Rider Level: lvl.10 Count: 1/4 Rarity: Legendary,\n",
       " Sparky Level: lvl.10 Count: 3/4 Rarity: Legendary,\n",
       " Lava Hound Level: lvl.10 Count: 2/4 Rarity: Legendary,\n",
       " Mega Knight Level: lvl.11 Count: 0/10 Rarity: Legendary]"
      ]
     },
     "execution_count": 64,
     "metadata": {},
     "output_type": "execute_result"
    }
   ],
   "source": [
    "[Card(tmp) for tmp in cards]"
   ]
  }
 ],
 "metadata": {
  "kernelspec": {
   "display_name": "Python 3",
   "language": "python",
   "name": "python3"
  },
  "language_info": {
   "codemirror_mode": {
    "name": "ipython",
    "version": 3
   },
   "file_extension": ".py",
   "mimetype": "text/x-python",
   "name": "python",
   "nbconvert_exporter": "python",
   "pygments_lexer": "ipython3",
   "version": "3.6.8"
  }
 },
 "nbformat": 4,
 "nbformat_minor": 2
}
