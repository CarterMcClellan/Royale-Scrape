{
 "cells": [
  {
   "cell_type": "markdown",
   "metadata": {},
   "source": [
    "### Royale Scrape II\n",
    "The goal of this notebook is perform card valuations"
   ]
  },
  {
   "cell_type": "code",
   "execution_count": 5,
   "metadata": {},
   "outputs": [],
   "source": [
    "from bs4 import BeautifulSoup\n",
    "import requests\n",
    "from pandas import ExcelWriter, DataFrame\n",
    "import pandas as pd\n",
    "\n",
    "import datetime"
   ]
  },
  {
   "cell_type": "code",
   "execution_count": 7,
   "metadata": {},
   "outputs": [
    {
     "data": {
      "text/plain": [
       "datetime.datetime(2020, 7, 5, 13, 44, 7, 686630)"
      ]
     },
     "execution_count": 7,
     "metadata": {},
     "output_type": "execute_result"
    }
   ],
   "source": [
    "datetime.datetime.now()"
   ]
  },
  {
   "cell_type": "code",
   "execution_count": null,
   "metadata": {},
   "outputs": [],
   "source": [
    "def parseURL(link):\n",
    "    response = requests.get(link).text\n",
    "    soup = BeautifulSoup(response, 'html.parser')\n",
    "    return soup"
   ]
  },
  {
   "cell_type": "markdown",
   "metadata": {},
   "source": [
    "### Trending Cards"
   ]
  },
  {
   "cell_type": "code",
   "execution_count": null,
   "metadata": {},
   "outputs": [],
   "source": [
    "class Card:\n",
    "    def __init__(self, card_soup):\n",
    "        # TODO there is some more interesting data in the soup\n",
    "        self.name = card_soup.find(\"a\")[\"href\"][len('https://statsroyale.com/card/'):]\n",
    "        self.usage = float(card_soup[\"data-usage\"])\n",
    "        self.winrate = float(card_soup[\"data-winrate\"])\n",
    "        \n",
    "    def __repr__(self):\n",
    "        return \"{}: {}% usage {}% winrate\".format(self.name, self.usage, self.winrate)\n",
    "    \n",
    "    def __hash__(self):\n",
    "        return hash(self.name)\n",
    "    \n",
    "    def to_row(self):\n",
    "        return {\"Name\" : self.name, \"Usage\": self.usage, \"Winrate\" : self.winrate}"
   ]
  },
  {
   "cell_type": "code",
   "execution_count": null,
   "metadata": {},
   "outputs": [],
   "source": [
    "def to_df():\n",
    "    # by default this will sort by usage rate\n",
    "    most_popular_cards_url = \"https://statsroyale.com/top/cards?arena=13\"\n",
    "    soup = parseURL(most_popular_cards_url)\n",
    "\n",
    "    # all cards are of class: popularCards__card\n",
    "    all_cards = soup.findAll(\"div\", {\"class\": \"popularCards__card\"})\n",
    "    cards = [Card(tmp) for tmp in all_cards]\n",
    "    cards = list(set(cards)) # remove dupes\n",
    "    df = pd.DataFrame(list(map(Card.to_row, cards))); df.index = df.Name; del df[\"Name\"]\n",
    "    return df"
   ]
  },
  {
   "cell_type": "code",
   "execution_count": null,
   "metadata": {},
   "outputs": [],
   "source": [
    "# note that this changes very quickly\n",
    "# df = to_df()\n",
    "df.sort_values('Winrate', ascending=False)"
   ]
  }
 ],
 "metadata": {
  "kernelspec": {
   "display_name": "Python 3",
   "language": "python",
   "name": "python3"
  },
  "language_info": {
   "codemirror_mode": {
    "name": "ipython",
    "version": 3
   },
   "file_extension": ".py",
   "mimetype": "text/x-python",
   "name": "python",
   "nbconvert_exporter": "python",
   "pygments_lexer": "ipython3",
   "version": "3.6.8"
  }
 },
 "nbformat": 4,
 "nbformat_minor": 2
}
